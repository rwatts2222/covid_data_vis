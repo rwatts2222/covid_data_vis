{
 "cells": [
  {
   "cell_type": "markdown",
   "metadata": {},
   "source": [
    "## Importing and setting up our data\n",
    "\n",
    "We start by bringing in the CSV data into Python program.\n",
    "We then parse the data using the CSV package.\n",
    "Lastly we close the CSV file after we have read the information."
   ]
  },
  {
   "cell_type": "code",
   "execution_count": 1,
   "metadata": {},
   "outputs": [],
   "source": [
    "import matplotlib.pyplot as plt\n",
    "import csv\n",
    "import datetime\n",
    "import calendar"
   ]
  },
  {
   "cell_type": "code",
   "execution_count": 2,
   "metadata": {},
   "outputs": [],
   "source": [
    "with open('covid_19_data.csv', 'r') as datafile:\n",
    "    covid_data = csv.DictReader(datafile)\n",
    "    data_list = []\n",
    "    \n",
    "    for row in covid_data:\n",
    "        data_list.append(row)"
   ]
  },
  {
   "cell_type": "code",
   "execution_count": 3,
   "metadata": {},
   "outputs": [
    {
     "data": {
      "text/plain": [
       "{'SNo': '1',\n",
       " 'ObservationDate': '01/22/2020',\n",
       " 'Province/State': 'Anhui',\n",
       " 'Country/Region': 'Mainland China',\n",
       " 'Last Update': '1/22/2020 17:00',\n",
       " 'Confirmed': '1.0',\n",
       " 'Deaths': '0.0',\n",
       " 'Recovered': '0.0'}"
      ]
     },
     "execution_count": 3,
     "metadata": {},
     "output_type": "execute_result"
    }
   ],
   "source": [
    "data_list[0]"
   ]
  },
  {
   "cell_type": "markdown",
   "metadata": {},
   "source": [
    "## Format the data before we generate a visualization\n",
    "\n",
    "Choose only the US entries, categorize by State, collect daily reports into a monthly list."
   ]
  },
  {
   "cell_type": "code",
   "execution_count": 10,
   "metadata": {},
   "outputs": [],
   "source": [
    "us_data = {}\n",
    "state_names = [\"Alaska\", \"Alabama\", \"Arkansas\", \"American Samoa\", \"Arizona\", \"California\", \"Colorado\", \"Connecticut\", \"District of Columbia\", \"Delaware\", \"Florida\", \"Georgia\", \"Guam\", \"Hawaii\", \"Iowa\", \"Idaho\", \"Illinois\", \"Indiana\", \"Kansas\", \"Kentucky\", \"Louisiana\", \"Massachusetts\", \"Maryland\", \"Maine\", \"Michigan\", \"Minnesota\", \"Missouri\", \"Mississippi\", \"Montana\", \"North Carolina\", \"North Dakota\", \"Nebraska\", \"New Hampshire\", \"New Jersey\", \"New Mexico\", \"Nevada\", \"New York\", \"Ohio\", \"Oklahoma\", \"Oregon\", \"Pennsylvania\", \"Puerto Rico\", \"Rhode Island\", \"South Carolina\", \"South Dakota\", \"Tennessee\", \"Texas\", \"Utah\", \"Virginia\", \"Virgin Islands\", \"Vermont\", \"Washington\", \"Wisconsin\", \"West Virginia\", \"Wyoming\"]\n",
    "\n",
    "for item in data_list:\n",
    "    month, day, year = tuple(item['ObservationDate'].split('/'))\n",
    "    if item['Country/Region'] == \"US\" and item['Province/State'] in state_names:\n",
    "        if not us_data.get(item['Province/State']):\n",
    "            us_data[item['Province/State']] = {}\n",
    "        if not us_data[item['Province/State']].get(calendar.month_name[int(month)]):\n",
    "            us_data[item['Province/State']][calendar.month_name[int(month)]] = []\n",
    "        entry = {\n",
    "            'cumulative_cases': item['Confirmed']\n",
    "        }\n",
    "        us_data[item['Province/State']][calendar.month_name[int(month)]].append(entry)"
   ]
  },
  {
   "cell_type": "markdown",
   "metadata": {},
   "source": [
    "## Create the Visualization\n",
    "\n",
    "Now that the data is parsed, we will use matplotlib to create a graph."
   ]
  },
  {
   "cell_type": "code",
   "execution_count": 26,
   "metadata": {},
   "outputs": [
    {
     "data": {
      "text/plain": [
       "[<matplotlib.lines.Line2D at 0x1fc4b3c3820>]"
      ]
     },
     "execution_count": 26,
     "metadata": {},
     "output_type": "execute_result"
    },
    {
     "data": {
      "image/png": "[encoded data removed]",
      "text/plain": [
       "<Figure size 432x288 with 1 Axes>"
      ]
     },
     "metadata": {
      "needs_background": "light"
     },
     "output_type": "display_data"
    }
   ],
   "source": [
    "plt.title(\"US Cumulative Covid Cases Monthly\")\n",
    "plt.xlabel('Month')\n",
    "plt.ylabel('Cases (Millions)')\n",
    "\n",
    "# TODO: Create x axis MONTHS list\n",
    "x = [calendar.month_name[potato] for potato in range(1, 13)]\n",
    "\n",
    "# TODO: Create y axis Cumulative list\n",
    "y = []\n",
    "\n",
    "for month in x:\n",
    "    total_for_month = 0\n",
    "    for state in state_names:\n",
    "        if us_data[state].get(month):\n",
    "            last_value = int(float(us_data[state][month][-1]['cumulative_cases']))\n",
    "            total_for_month += last_value\n",
    "    y.append(total_for_month)\n",
    "\n",
    "plt.xticks(rotation=45)\n",
    "plt.ticklabel_format(axis='y', style='plain')\n",
    "plt.plot(x,y, fillstyle='bottom')"
   ]
  },
  {
   "cell_type": "code",
   "execution_count": null,
   "metadata": {},
   "outputs": [],
   "source": []
  }
 ],
 "metadata": {
  "kernelspec": {
   "display_name": "covid_data",
   "language": "python",
   "name": "covid_data"
  },
  "language_info": {
   "codemirror_mode": {
    "name": "ipython",
    "version": 3
   },
   "file_extension": ".py",
   "mimetype": "text/x-python",
   "name": "python",
   "nbconvert_exporter": "python",
   "pygments_lexer": "ipython3",
   "version": "3.9.1"
  }
 },
 "nbformat": 4,
 "nbformat_minor": 4
}
